{
 "cells": [
  {
   "cell_type": "markdown",
   "metadata": {},
   "source": [
    "# **BMI DATASET**"
   ]
  },
  {
   "cell_type": "markdown",
   "metadata": {},
   "source": [
    "### _Importing the required libraries_"
   ]
  },
  {
   "cell_type": "code",
   "execution_count": null,
   "metadata": {},
   "outputs": [],
   "source": [
    "from pandas import read_csv\n",
    "from numpy import arange\n",
    "import matplotlib.pyplot as plt"
   ]
  },
  {
   "cell_type": "code",
   "execution_count": null,
   "metadata": {},
   "outputs": [],
   "source": [
    "bmi = read_csv('bmi.csv')    #* Load the dataset"
   ]
  },
  {
   "cell_type": "markdown",
   "metadata": {},
   "source": [
    "### _Pie Chart to show division of Males and Females as % of dataset_"
   ]
  },
  {
   "cell_type": "code",
   "execution_count": null,
   "metadata": {},
   "outputs": [],
   "source": [
    "males = bmi.loc[bmi[\"Gender\"]=='Male'].count()[0]      #* Locate Males\n",
    "females = bmi.loc[bmi[\"Gender\"]=='Female'].count()[0]    #* Locate Females\n",
    "\n",
    "plt.style.use('default')    #* Style options for the Chart\n",
    "\n",
    "plt.figure(dpi=100)         #* Optional DPI Adjustments\n",
    "\n",
    "labels = ['Males', 'Females']     #* Labels for Pie Chart\n",
    "colors = ['red', 'Pink']          #* Colors for Pie Chart Distribution\n",
    "\n",
    "#* Plotting the pie chart\n",
    "plt.pie([males, females], labels=labels, colors=colors, autopct='%.1f%%', explode=(0, 0.2))\n",
    "\n",
    "#* Title of the Chart\n",
    "plt.title('Males vs Females in the dataset')\n",
    "\n",
    "\n",
    "plt.show()"
   ]
  },
  {
   "cell_type": "markdown",
   "metadata": {},
   "source": [
    "### _Pie Chart to show % of people within different obesity level_"
   ]
  },
  {
   "cell_type": "code",
   "execution_count": null,
   "metadata": {},
   "outputs": [],
   "source": [
    "# #* Get the Count of people in different weight categories\n",
    "\n",
    "extremely_weak = bmi.loc[bmi[\"Index\"]==0].count()[0]\n",
    "weak = bmi.loc[bmi[\"Index\"]==1].count()[0]\n",
    "normal = bmi.loc[bmi[\"Index\"]==2].count()[0]\n",
    "overweight = bmi.loc[bmi[\"Index\"]==3].count()[0]\n",
    "obese = bmi.loc[bmi[\"Index\"]==4].count()[0]\n",
    "extremely_obese = bmi.loc[bmi[\"Index\"]==5].count()[0]\n",
    "\n",
    "#* Make the list of number of people in each category\n",
    "divisions = [extremely_weak, weak, normal, overweight, obese, extremely_obese]\n",
    "\n",
    "#* Labels for Pie Chart\n",
    "labels = [\"Extremely Weak\", \"Weak\", \"Normal\", \"Overweight\", \"Obese\", \"Extremely Obese\"]\n",
    "\n",
    "#* Colors for different divisions in the chart\n",
    "colors = ['#b4c7b1', '#6b7d85', '#19bd21', '#eb3b3b', '#990b0b', '#6e0333']\n",
    "\n",
    "plt.figure(dpi=150)   #* Optional adjustment of dpi\n",
    "\n",
    "#* Plot the Pie Chart\n",
    "plt.pie(divisions, labels=labels, colors=colors, autopct='%.1f%%')\n",
    "\n",
    "#* Title of the Pie Chart\n",
    "plt.title('People in different scales according to weight')\n",
    "plt.show()"
   ]
  },
  {
   "cell_type": "markdown",
   "metadata": {},
   "source": [
    "### _Bar Chart to show Comparison of Male and Female Data_"
   ]
  },
  {
   "cell_type": "code",
   "execution_count": null,
   "metadata": {},
   "outputs": [],
   "source": [
    " #* Create a new Pandas DataFrame grouped by index and gender\n",
    "groups = bmi.groupby([\"Index\", \"Gender\"]).size()\n",
    "\n",
    "#* Male Category wise Values \n",
    "male_index_0 = groups[0][\"Male\"]\n",
    "male_index_1 = groups[1][\"Male\"]\n",
    "male_index_2 = groups[2][\"Male\"]\n",
    "male_index_3 = groups[3][\"Male\"]\n",
    "male_index_4 = groups[4][\"Male\"]\n",
    "male_index_5 = groups[5][\"Male\"]\n",
    "\n",
    "#* Female Category wise values\n",
    "female_index_0 = groups[0][\"Female\"]\n",
    "female_index_1 = groups[1][\"Female\"]\n",
    "female_index_2 = groups[2][\"Female\"]\n",
    "female_index_3 = groups[3][\"Female\"]\n",
    "female_index_4 = groups[4][\"Female\"]\n",
    "female_index_5 = groups[5][\"Female\"]\n",
    "\n",
    "#* List of both values\n",
    "male_values = [male_index_0, male_index_1, male_index_2, male_index_3, male_index_4, male_index_5]\n",
    "female_values = [female_index_0, female_index_1, female_index_2, female_index_3, female_index_4, female_index_5]\n",
    "\n",
    "\n",
    "width=0.25  #* width for each bar\n",
    "x = arange(len(labels))  #* Number of bars\n",
    "\n",
    "#* Bar labels\n",
    "labels = [\"Extremely Weak\", \"Weak\", \"Normal\", \"Overweight\", \"Obese\", \"Extremely Obese\"]\n",
    "\n",
    "#* Title for the bar chart\n",
    "plt.title(\"Comparison of Male-Female Data\")\n",
    "\n",
    "#* Plot of Male Values\n",
    "plt.bar(x-width/2, male_values, label='Males', width=width, color='Blue')\n",
    "\n",
    "#* Plot of Female Values\n",
    "plt.bar(x+width/2, female_values, label='Females', width=width, color='Green')\n",
    "\n",
    "#* X and Y ticks\n",
    "plt.xticks(x, labels, rotation=25)\n",
    "plt.yticks([i for i in range(0, 151, 50)])\n",
    "\n",
    "#*Y axis label\n",
    "plt.ylabel('Number of People ', fontdict={'fontsize':14})\n",
    "\n",
    "#* Show legend\n",
    "plt.legend()\n",
    "\n",
    "x_space = 0.25      #* Space to separate values at x axis\n",
    "\n",
    "#* Displaying Values above each bar\n",
    "for i in range(len(x)):\n",
    "    plt.text(i-x_space, male_values[i]+10, male_values[i])  #* (X, Y, Value)\n",
    "    plt.text(i, female_values[i]+10, female_values[i])      #* (X, Y, Value)\n",
    "\n",
    "plt.figure(figsize=(3, 3), dpi=300) #* Figure size adjustment\n",
    "plt.show()\n"
   ]
  },
  {
   "cell_type": "markdown",
   "metadata": {},
   "source": [
    "### _Line Chart For Male Female Data_"
   ]
  },
  {
   "cell_type": "code",
   "execution_count": null,
   "metadata": {},
   "outputs": [],
   "source": [
    " #* Text for X Axis\n",
    "text_ = [\"Extremely Weak\", \"Weak\", \"Normal\", \"Overweight\", \"Obese\", \"Extremely Obese\"]\n",
    "\n",
    "#* Plit of Male Data\n",
    "plt.plot(male_values, color='blue', marker='.', label='Male')\n",
    "\n",
    "#* Plot of Female Data\n",
    "plt.plot(female_values, marker='.', color='orange', label='Female')\n",
    "\n",
    "#* Title for the bar chart\n",
    "plt.title(\"Comparison of Male-Female Data\")\n",
    "\n",
    "#* Defining the xticks and ylabel\n",
    "plt.xticks(x, text_, rotation=25)\n",
    "plt.ylabel(\"Number of People\")\n",
    "\n",
    "#* Displaying the value of male data above the line\n",
    "for i in range(len(x)):\n",
    "    if male_values[i]!=15:\n",
    "        plt.text(x=i+0.1, y=male_values[i]-5, s=male_values[i])  #* (X, Y, Value)\n",
    "    else:\n",
    "        plt.text(x=i-0.3, y=male_values[i]+3, s=male_values[i])\n",
    "\n",
    "#* Displaying the value of Female data above the line\n",
    "for i in range(len(x)):\n",
    "    if female_values[i]!=36:\n",
    "        plt.text(i, female_values[i]+3, female_values[i])     \n",
    "    else:\n",
    "        plt.text(i-0.1, female_values[i]+6, female_values[i])\n",
    "\n",
    "#* Displaying the legend\n",
    "plt.legend()\n",
    "\n",
    "plt.figure(dpi=300)  #* Adjustment fop dpi\n",
    "plt.show()"
   ]
  },
  {
   "cell_type": "markdown",
   "metadata": {},
   "source": [
    "### _Scatter Plot for above data_"
   ]
  },
  {
   "cell_type": "code",
   "execution_count": null,
   "metadata": {},
   "outputs": [],
   "source": [
    "plt.scatter(x, male_values, label=\"Male\")       #* Plot points for male values\n",
    "plt.scatter(x, female_values, label=\"Female\")       #* Plot points for female values\n",
    "\n",
    "plt.title(\"Scatter plot of Male-Female Category\")   #* Title\n",
    "\n",
    "plt.xticks(x, labels, rotation=25, color='black', fontname='Comic Sans MS')  #* X-ticks\n",
    "\n",
    "plt.legend()    #* Show legend\n",
    "\n",
    "#* Y Label\n",
    "plt.ylabel(\"Number of People --->\")\n",
    "#* Display values corresponding to each datapoint\n",
    "for i in range(len(x)):\n",
    "    plt.text(i+0.1, male_values[i], male_values[i])\n",
    "    plt.text(i+0.1, female_values[i]+2, female_values[i])\n",
    "\n",
    "plt.figure(dpi=300)     #* dpi adjustment\n",
    "plt.show()"
   ]
  },
  {
   "cell_type": "markdown",
   "metadata": {},
   "source": [
    "### _Scatter Plot for whole data_"
   ]
  },
  {
   "cell_type": "code",
   "execution_count": null,
   "metadata": {},
   "outputs": [],
   "source": [
    "height = list(height for height in bmi.Height.head(501))    #* Array of height Values\n",
    "weight = list(weight for weight in bmi.Weight.head(501))    #* Array of weight values\n",
    "\n",
    "data=list(zip(height, weight))      #* Array of (height, weight) values\n",
    "\n",
    "for i in range(500):\n",
    "    height = data[i][0]\n",
    "    weight = data[i][1]\n",
    "    plt.scatter(height, weight, color='blue')     #* Plotting the scatter plot\n",
    "\n",
    "#* Title\n",
    "plt.title(\"Scatter plot for whole data\")\n",
    "\n",
    "#* X and Y labels\n",
    "plt.xlabel(\"Height\")\n",
    "plt.ylabel(\"Weight\")\n",
    "\n",
    "plt.figure(dpi=300)       #* Dpi adjustment\n",
    "plt.show()"
   ]
  }
 ],
 "metadata": {
  "interpreter": {
   "hash": "126a8d452225dc4b2d79ed14461320291b470027fa37e3881c5c5b0616641f21"
  },
  "kernelspec": {
   "display_name": "Python 3.9.6 64-bit",
   "language": "python",
   "name": "python3"
  },
  "language_info": {
   "codemirror_mode": {
    "name": "ipython",
    "version": 3
   },
   "file_extension": ".py",
   "mimetype": "text/x-python",
   "name": "python",
   "nbconvert_exporter": "python",
   "pygments_lexer": "ipython3",
   "version": "3.9.6"
  },
  "orig_nbformat": 4
 },
 "nbformat": 4,
 "nbformat_minor": 2
}
