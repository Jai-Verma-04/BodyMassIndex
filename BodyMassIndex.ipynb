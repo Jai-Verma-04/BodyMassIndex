{
 "cells": [
  {
   "cell_type": "markdown",
   "metadata": {},
   "source": [
    "# **BMI DATASET**"
   ]
  },
  {
   "cell_type": "markdown",
   "metadata": {},
   "source": [
    "#### _Importing the required libraries_"
   ]
  },
  {
   "cell_type": "code",
   "execution_count": null,
   "metadata": {},
   "outputs": [],
   "source": [
    "import pandas as pd\n",
    "import numpy as np\n",
    "import matplotlib.pyplot as plt"
   ]
  },
  {
   "cell_type": "code",
   "execution_count": null,
   "metadata": {},
   "outputs": [],
   "source": [
    "bmi = pd.read_csv('bmi.csv')\n",
    "bmi"
   ]
  },
  {
   "cell_type": "markdown",
   "metadata": {},
   "source": [
    "### Pie Chart to show Male and Females in the dataset"
   ]
  },
  {
   "cell_type": "code",
   "execution_count": null,
   "metadata": {},
   "outputs": [],
   "source": [
    "males = bmi.loc[bmi[\"Gender\"]=='Male'].count()[0]\n",
    "females = bmi.loc[bmi[\"Gender\"]=='Female'].count()[0]\n",
    "\n",
    "plt.style.use('ggplot')\n",
    "plt.figure(figsize = (2, 2),dpi=300)\n",
    "labels = ['Males', 'Females']\n",
    "colors = ['red', 'Pink']\n",
    "\n",
    "plt.pie([males, females], labels=labels, colors=colors, autopct='%.1f%%', explode=(0, 0.2))\n",
    "plt.title('Males vs Females in the dataset')\n",
    "plt.show()"
   ]
  },
  {
   "cell_type": "markdown",
   "metadata": {},
   "source": [
    "#### Pie Chart to Show people according to obesity level"
   ]
  },
  {
   "cell_type": "code",
   "execution_count": null,
   "metadata": {},
   "outputs": [],
   "source": [
    "extremely_weak = bmi.loc[bmi[\"Index\"]==0].count()[0]\n",
    "weak = bmi.loc[bmi[\"Index\"]==1].count()[0]\n",
    "normal = bmi.loc[bmi[\"Index\"]==2].count()[0]\n",
    "overweight = bmi.loc[bmi[\"Index\"]==3].count()[0]\n",
    "obese = bmi.loc[bmi[\"Index\"]==4].count()[0]\n",
    "extremely_obese = bmi.loc[bmi[\"Index\"]==5].count()[0]\n",
    "\n",
    "divisions = [extremely_weak, weak, normal, overweight, obese, extremely_obese]\n",
    "labels = [\"extremely_weak\", \"weak\", \"normal\", \"overweight\", \"obese\", \"extremely_obese\"]\n",
    "colors = ['#b4c7b1', '#6b7d85', '#19bd21', '#eb3b3b', '#990b0b', '#6e0333']\n",
    "\n",
    "plt.figure(figsize=(3, 3), dpi=300)\n",
    "plt.pie(divisions, labels=labels, colors=colors, autopct='%.1f%%')\n",
    "\n",
    "plt.title('People in different scales according to weight')\n",
    "plt.show()"
   ]
  },
  {
   "cell_type": "code",
   "execution_count": null,
   "metadata": {},
   "outputs": [],
   "source": [
    "groups = bmi.groupby([\"Index\", \"Gender\"]).size()\n",
    "labels = [\"Extremely Weak\", \"Weak\", \"Normal\", \"Overweight\", \"Obese\", \"Extremely Obese\"]\n",
    "\n",
    "male_index_0 = groups[0][\"Male\"]\n",
    "male_index_1 = groups[1][\"Male\"]\n",
    "male_index_2 = groups[2][\"Male\"]\n",
    "male_index_3 = groups[3][\"Male\"]\n",
    "male_index_4 = groups[4][\"Male\"]\n",
    "male_index_5 = groups[5][\"Male\"]\n",
    "\n",
    "female_index_0 = groups[0][\"Female\"]\n",
    "female_index_1 = groups[1][\"Female\"]\n",
    "female_index_2 = groups[2][\"Female\"]\n",
    "female_index_3 = groups[3][\"Female\"]\n",
    "female_index_4 = groups[4][\"Female\"]\n",
    "female_index_5 = groups[5][\"Female\"]\n",
    "\n",
    "male_values = [male_index_0, male_index_1, male_index_2, male_index_3, male_index_4, male_index_5]\n",
    "female_values = [female_index_0, female_index_1, female_index_2, female_index_3, female_index_4, female_index_5]\n",
    "\n",
    "x = np.arange(len(labels))\n",
    "width=0.25\n",
    "# ticks = [0, 1,2,3,4,5]\n",
    "plt.bar(x-width/2, male_values, label='Males', width=width, color='Blue')\n",
    "plt.bar(x+width/2, female_values, label='Females', width=width, color='Green')\n",
    "plt.legend()\n",
    "plt.yticks([i for i in range(0, 151, 50)])\n",
    "plt.ylabel('Number of People', fontdict={'fontweight':'bold', 'fontsize':12})\n",
    "plt.xlabel('Weight Category', fontdict={'fontweight':'bold', 'fontsize':18})\n",
    "plt.xticks(x, labels, rotation=25, color='black', fontname='Comic Sans MS')\n",
    "x_space = 0.25\n",
    "y_space = 4\n",
    "for i in range(len(x)):\n",
    "    plt.text(i-x_space,male_values[i]+4,male_values[i])\n",
    "    plt.text(i, female_values[i]+4, female_values[i])\n",
    "plt.tick_params(axis='x', pad=2)\n",
    "plt.figure(figsize=(3, 3), dpi=300)\n",
    "plt.show()\n"
   ]
  },
  {
   "cell_type": "markdown",
   "metadata": {},
   "source": [
    "#### Scatter Plot for male female data"
   ]
  },
  {
   "cell_type": "code",
   "execution_count": null,
   "metadata": {},
   "outputs": [],
   "source": [
    "plt.scatter(x, male_values, label=\"Male\")\n",
    "plt.scatter(x, female_values, label=\"Female\")\n",
    "plt.title(\"Scatter plot of Male-Female Category\")\n",
    "plt.xticks(x, labels, rotation=25, color='black', fontname='Comic Sans MS')\n",
    "plt.legend()\n",
    "for i in range(len(x)):\n",
    "    plt.text(i, male_values[i], male_values[i])\n",
    "    plt.text(i, female_values[i]+5, female_values[i])\n",
    "plt.show()"
   ]
  },
  {
   "cell_type": "code",
   "execution_count": null,
   "metadata": {},
   "outputs": [],
   "source": [
    "count = 0\n",
    "height = list(height for height in bmi.Height.head(501))\n",
    "# print(height)\n",
    "weight = list(weight for weight in bmi.Weight.head(501))\n",
    "# print(weight)\n",
    "data=list(zip(height, weight))\n",
    "# print(data)\n",
    "for i in range(500):\n",
    "    height = data[i][0]\n",
    "    weight = data[i][1]\n",
    "    plt.scatter(height, weight)\n",
    "    # plt.text(height, weight, (height, weight))\n",
    "    # plt.figure(dpi=100)\n",
    "plt.xlabel(\"Height\")\n",
    "plt.ylabel(\"Weight\")\n",
    "plt.show()\n",
    "# print(height, weight)"
   ]
  }
 ],
 "metadata": {
  "interpreter": {
   "hash": "126a8d452225dc4b2d79ed14461320291b470027fa37e3881c5c5b0616641f21"
  },
  "kernelspec": {
   "display_name": "Python 3.9.6 64-bit",
   "language": "python",
   "name": "python3"
  },
  "language_info": {
   "codemirror_mode": {
    "name": "ipython",
    "version": 3
   },
   "file_extension": ".py",
   "mimetype": "text/x-python",
   "name": "python",
   "nbconvert_exporter": "python",
   "pygments_lexer": "ipython3",
   "version": "3.9.6"
  },
  "orig_nbformat": 4
 },
 "nbformat": 4,
 "nbformat_minor": 2
}
